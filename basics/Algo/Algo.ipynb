{
 "cells": [
  {
   "cell_type": "markdown",
   "metadata": {},
   "source": [
    "# Exercice 1 et 2 de la feuille algorithmie  "
   ]
  },
  {
   "cell_type": "code",
   "execution_count": 1,
   "metadata": {
    "collapsed": true
   },
   "outputs": [
    {
     "name": "stdout",
     "output_type": "stream",
     "text": [
      "Avant l'échange\n",
      " a :  1 \n",
      "b :  2\n",
      "Après l'échange\n",
      " a :  2 \n",
      "b :  1\n"
     ]
    }
   ],
   "source": [
    "a=1\n",
    "b=2\n",
    "print(\"Avant l'échange\\n\",\"a : \",a,\"\\nb : \",b)\n",
    "a,b = b,a\n",
    "print(\"Après l'échange\\n\",\"a : \",a,\"\\nb : \",b)"
   ]
  },
  {
   "cell_type": "code",
   "execution_count": 2,
   "metadata": {
    "collapsed": true
   },
   "outputs": [
    {
     "name": "stdout",
     "output_type": "stream",
     "text": [
      "4\n"
     ]
    }
   ],
   "source": [
    "def carre(x):\n",
    "    return x**2\n",
    "print(carre(2))"
   ]
  },
  {
   "cell_type": "code",
   "execution_count": 3,
   "metadata": {
    "collapsed": true
   },
   "outputs": [
    {
     "name": "stdout",
     "output_type": "stream",
     "text": [
      "produit positif\n",
      "None\n"
     ]
    }
   ],
   "source": [
    "def signe(x,y):\n",
    "    if(x*y<0):\n",
    "        return print('produit négatif')\n",
    "    elif(x*y>0):\n",
    "        return print('produit positif')\n",
    "    else:\n",
    "        return print('produit nul')\n",
    "    pass\n",
    "print(signe(1,2))"
   ]
  },
  {
   "cell_type": "code",
   "execution_count": 4,
   "metadata": {},
   "outputs": [],
   "source": [
    "def cal():\n",
    "    x = int(input('entre un nombre'))\n",
    "    for i in range(x+1,x+11,1):\n",
    "        print(i)"
   ]
  },
  {
   "cell_type": "code",
   "execution_count": 5,
   "metadata": {
    "collapsed": true
   },
   "outputs": [
    {
     "name": "stdout",
     "output_type": "stream",
     "text": [
      "entre un nombre3\n",
      "4\n",
      "5\n",
      "6\n",
      "7\n",
      "8\n",
      "9\n",
      "10\n",
      "11\n",
      "12\n",
      "13\n"
     ]
    }
   ],
   "source": [
    "cal()"
   ]
  },
  {
   "cell_type": "code",
   "execution_count": 6,
   "metadata": {
    "collapsed": true
   },
   "outputs": [
    {
     "data": {
      "text/plain": [
       "3"
      ]
     },
     "execution_count": 6,
     "metadata": {},
     "output_type": "execute_result"
    }
   ],
   "source": [
    "def sommeTab(l):\n",
    "    return sum(l)\n",
    "l=[1,2]\n",
    "sommeTab(l)"
   ]
  },
  {
   "cell_type": "code",
   "execution_count": 7,
   "metadata": {
    "collapsed": true
   },
   "outputs": [
    {
     "name": "stdout",
     "output_type": "stream",
     "text": [
      "[2, 4]\n"
     ]
    }
   ],
   "source": [
    "def concat(l1,l2):\n",
    "    return print(list(map(sum,zip(l1,l2))))\n",
    "l1=[1,2]\n",
    "l2=[1,2]\n",
    "concat(l1,l2)"
   ]
  },
  {
   "cell_type": "code",
   "execution_count": 9,
   "metadata": {},
   "outputs": [],
   "source": [
    "def minimum(t):\n",
    "    if len(t)!=0:\n",
    "        mini = t[0]\n",
    "        for i in t : \n",
    "            if i<mini:\n",
    "                mini = I \n",
    "    return print(mini)\n",
    "#sinon \n",
    "def minimumBis(t):\n",
    "    return min(t)"
   ]
  },
  {
   "cell_type": "code",
   "execution_count": 10,
   "metadata": {
    "collapsed": true
   },
   "outputs": [
    {
     "name": "stdout",
     "output_type": "stream",
     "text": [
      "1\n"
     ]
    }
   ],
   "source": [
    "minimum(l1)"
   ]
  },
  {
   "cell_type": "code",
   "execution_count": 11,
   "metadata": {
    "collapsed": true
   },
   "outputs": [
    {
     "data": {
      "text/plain": [
       "1"
      ]
     },
     "execution_count": 11,
     "metadata": {},
     "output_type": "execute_result"
    }
   ],
   "source": [
    "minimumBis(l1)"
   ]
  },
  {
   "cell_type": "code",
   "execution_count": 12,
   "metadata": {
    "collapsed": true
   },
   "outputs": [
    {
     "data": {
      "text/plain": [
       "18"
      ]
     },
     "execution_count": 12,
     "metadata": {},
     "output_type": "execute_result"
    }
   ],
   "source": [
    "#facProduct \n",
    "def facProduct(l1,l2):\n",
    "    s=0\n",
    "    for i in l1:\n",
    "        for j in l2:\n",
    "            s+=i*j\n",
    "    return s \n",
    "l3= [1,2,3]\n",
    "facProduct(l1,l3)"
   ]
  },
  {
   "cell_type": "code",
   "execution_count": 13,
   "metadata": {},
   "outputs": [],
   "source": [
    "def maximum(t):\n",
    "    if len(t)!=0:\n",
    "        maxi = t[0]\n",
    "        for i in t : \n",
    "            if i>maxi:\n",
    "                maxi = i \n",
    "    return print(maxi)\n",
    "#sinon \n",
    "def maximumBis(t):\n",
    "    return max(t)"
   ]
  },
  {
   "cell_type": "code",
   "execution_count": 14,
   "metadata": {
    "collapsed": true
   },
   "outputs": [
    {
     "name": "stdout",
     "output_type": "stream",
     "text": [
      "3\n"
     ]
    },
    {
     "data": {
      "text/plain": [
       "3"
      ]
     },
     "execution_count": 14,
     "metadata": {},
     "output_type": "execute_result"
    }
   ],
   "source": [
    "maximum(l3)\n",
    "maximumBis(l3)"
   ]
  },
  {
   "cell_type": "code",
   "execution_count": 15,
   "metadata": {},
   "outputs": [],
   "source": [
    "import numpy as np\n",
    "def MeanTall(t):\n",
    "    m = np.mean(t)\n",
    "    c = 0\n",
    "    for i in t:\n",
    "        if i > m : \n",
    "            c+=1\n",
    "    return print(\"il y a {} nombres supérieur à la moyenne dans le tableau {}\".format(c,t))"
   ]
  },
  {
   "cell_type": "code",
   "execution_count": 16,
   "metadata": {
    "collapsed": true
   },
   "outputs": [
    {
     "name": "stdout",
     "output_type": "stream",
     "text": [
      "il y a 1 nombres supérieur à la moyenne dans le tableau [1, 2, 3]\n"
     ]
    }
   ],
   "source": [
    "MeanTall(l3)"
   ]
  },
  {
   "cell_type": "code",
   "execution_count": 17,
   "metadata": {},
   "outputs": [],
   "source": [
    "def Mult(l1,l2):\n",
    "    if len(l1)==len(l2):\n",
    "        tab=[]\n",
    "        for i in range(0,len(l1)):\n",
    "            tab.append(l1[i]*l2[i])\n",
    "    return tab"
   ]
  },
  {
   "cell_type": "code",
   "execution_count": 18,
   "metadata": {
    "collapsed": true
   },
   "outputs": [
    {
     "data": {
      "text/plain": [
       "[1, 4]"
      ]
     },
     "execution_count": 18,
     "metadata": {},
     "output_type": "execute_result"
    }
   ],
   "source": [
    "Mult(l1,l2)"
   ]
  },
  {
   "cell_type": "code",
   "execution_count": 19,
   "metadata": {},
   "outputs": [],
   "source": [
    "def Tris(l):\n",
    "    n=len(l)\n",
    "    for i in range(n):\n",
    "        k=i \n",
    "        for j in range(i+1,n,1):\n",
    "            if l[k]>l[j]:\n",
    "                k=j\n",
    "        l[k],l[i]=l[i],l[k]\n",
    "    return l "
   ]
  },
  {
   "cell_type": "code",
   "execution_count": 20,
   "metadata": {
    "collapsed": true
   },
   "outputs": [
    {
     "data": {
      "text/plain": [
       "[1, 2, 3]"
      ]
     },
     "execution_count": 20,
     "metadata": {},
     "output_type": "execute_result"
    }
   ],
   "source": [
    "l4=[3,2,1]\n",
    "Tris(l4)"
   ]
  },
  {
   "cell_type": "code",
   "execution_count": 21,
   "metadata": {},
   "outputs": [],
   "source": [
    "#temps d'arrêt\n",
    "def sommeHarm(alpha):\n",
    "    S = 0\n",
    "    n=1\n",
    "    while S<alpha:\n",
    "        S += 1.0 / n\n",
    "        n+=1\n",
    "    return print(\"Avant la série harmonique S ne dépasse alpha={}, il faut {} itérations\".format(alpha,n))"
   ]
  },
  {
   "cell_type": "code",
   "execution_count": 22,
   "metadata": {},
   "outputs": [
    {
     "name": "stdout",
     "output_type": "stream",
     "text": [
      "Avant la série harmonique S ne dépasse alpha=10, il faut 12368 itérations\n"
     ]
    }
   ],
   "source": [
    "sommeHarm(10)"
   ]
  },
  {
   "cell_type": "code",
   "execution_count": null,
   "metadata": {},
   "outputs": [],
   "source": []
  }
 ],
 "metadata": {
  "kernelspec": {
   "display_name": "Python 3",
   "language": "python",
   "name": "python3"
  },
  "language_info": {
   "codemirror_mode": {
    "name": "ipython",
    "version": 3
   },
   "file_extension": ".py",
   "mimetype": "text/x-python",
   "name": "python",
   "nbconvert_exporter": "python",
   "pygments_lexer": "ipython3",
   "version": "3.7.1"
  }
 },
 "nbformat": 4,
 "nbformat_minor": 2
}
