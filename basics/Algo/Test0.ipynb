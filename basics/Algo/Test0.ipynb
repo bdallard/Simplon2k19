{
 "cells": [
  {
   "cell_type": "code",
   "execution_count": 1,
   "metadata": {},
   "outputs": [],
   "source": [
    "#carré \n",
    "def carre(x):\n",
    "    return x**2\n",
    "#print(carre(2))"
   ]
  },
  {
   "cell_type": "code",
   "execution_count": 2,
   "metadata": {},
   "outputs": [],
   "source": [
    "def signe(x,y):\n",
    "    if(x*y<0):\n",
    "        return print('produit négatif')\n",
    "    elif(x*y>0):\n",
    "        return print('produit positif')\n",
    "    else:\n",
    "        return print('produit nul')\n",
    "    pass\n",
    "#print(signe(1,2))"
   ]
  },
  {
   "cell_type": "code",
   "execution_count": 3,
   "metadata": {},
   "outputs": [],
   "source": [
    "def somme():\n",
    "    x = int(input('entre un nombre'))\n",
    "    for i in range(x+1,x+11,1):\n",
    "        print(i)"
   ]
  },
  {
   "cell_type": "code",
   "execution_count": 4,
   "metadata": {},
   "outputs": [
    {
     "data": {
      "text/plain": [
       "18"
      ]
     },
     "execution_count": 4,
     "metadata": {},
     "output_type": "execute_result"
    }
   ],
   "source": [
    "#facProduct \n",
    "def facProduct(l1,l2):\n",
    "    s=0\n",
    "    for i in l1:\n",
    "        for j in l2:\n",
    "            s+=i*j\n",
    "    return s \n",
    "l3= [1,2,3]\n",
    "l1=[1,2]\n",
    "facProduct(l1,l3)"
   ]
  },
  {
   "cell_type": "code",
   "execution_count": 5,
   "metadata": {},
   "outputs": [],
   "source": [
    "#minimum\n",
    "def minimum(t):\n",
    "    if len(t)!=0:\n",
    "        mini = t[0]\n",
    "        for i in t : \n",
    "            if i<mini:\n",
    "                mini = I \n",
    "    return print(mini)\n",
    "#sinon \n",
    "def minimumBis(t):\n",
    "    return min(t)"
   ]
  },
  {
   "cell_type": "code",
   "execution_count": 6,
   "metadata": {},
   "outputs": [],
   "source": [
    "#tris simple\n",
    "def Tris(l):\n",
    "    n=len(l)\n",
    "    for i in range(n):\n",
    "        k=i \n",
    "        for j in range(i+1,n,1):\n",
    "            if l[k]>l[j]:\n",
    "                k=j\n",
    "        l[k],l[i]=l[i],l[k]\n",
    "    return l \n",
    "l4=[3,2,1]\n",
    "#Tris(l4)"
   ]
  },
  {
   "cell_type": "code",
   "execution_count": 7,
   "metadata": {},
   "outputs": [],
   "source": [
    "#carré liste \n",
    "def carreListe(l):\n",
    "    return print(list(map(lambda x : x**2, l)))\n",
    "#carreListe(l1)"
   ]
  },
  {
   "cell_type": "code",
   "execution_count": 8,
   "metadata": {},
   "outputs": [
    {
     "name": "stdout",
     "output_type": "stream",
     "text": [
      "le plus petit double de la liste est : 3\n"
     ]
    }
   ],
   "source": [
    "#plus petit doublon \n",
    "def MinDouble(l):\n",
    "    tmp = []\n",
    "    for i in l:\n",
    "        if i not in tmp: \n",
    "            tmp.append(i)\n",
    "        else: return print('le plus petit double de la liste est : {}'.format(i)) \n",
    "l=[1,2,3,6,5,3,7,2]\n",
    "MinDouble(l)"
   ]
  },
  {
   "cell_type": "code",
   "execution_count": 9,
   "metadata": {},
   "outputs": [
    {
     "data": {
      "text/plain": [
       "array([[ 7, 10],\n",
       "       [15, 22]])"
      ]
     },
     "execution_count": 9,
     "metadata": {},
     "output_type": "execute_result"
    }
   ],
   "source": [
    "#multiplication matricielle \n",
    "def produitMatriciel(A, B):\n",
    "    n = len(A)\n",
    "    p = len(A[0])\n",
    "    q = len(B[0])\n",
    "    return list([sum([A[i][k]*B[k][j] for k in range(p)]) for j in range(q)] for i in range(n))\n",
    "\n",
    "import numpy as np \n",
    "A = [[1,2], [3,4]]\n",
    "B = [[1,2], [3,4]]\n",
    "produitMatriciel(A,B)\n",
    "\n",
    "#avec numpy\n",
    "np.dot(A,B)"
   ]
  }
 ],
 "metadata": {
  "kernelspec": {
   "display_name": "Python 3",
   "language": "python",
   "name": "python3"
  },
  "language_info": {
   "codemirror_mode": {
    "name": "ipython",
    "version": 3
   },
   "file_extension": ".py",
   "mimetype": "text/x-python",
   "name": "python",
   "nbconvert_exporter": "python",
   "pygments_lexer": "ipython3",
   "version": "3.7.1"
  }
 },
 "nbformat": 4,
 "nbformat_minor": 2
}
