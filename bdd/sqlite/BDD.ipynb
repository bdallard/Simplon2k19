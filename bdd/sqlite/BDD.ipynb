{
 "cells": [
  {
   "cell_type": "markdown",
   "metadata": {},
   "source": [
    "# Les bases de données \n",
    "\n",
    "\n",
    "## Introduction \n",
    "\n",
    "Une base de données est **un conteneur dans lequel il est possible de stocker des données de façon structurée.** Cette structure permet au programme informatique connectée à celle-ci de faire des recherches complexes.\n",
    "\n",
    "\n",
    "## Et python dans tout ca ! \n",
    "\n",
    "\n",
    "### SQLite\n",
    "Notre exemple de cours concernera le module python SQLite et plus particulièrement SQLite3.\n",
    "SQLite a été conçu pour être intégré dans le programme même. Pour des projets plus ambitieux type projets web ou infrastructure le choix de MySQL & SQL serait plus judicieux. \n"
   ]
  },
  {
   "cell_type": "code",
   "execution_count": 1,
   "metadata": {},
   "outputs": [],
   "source": [
    "import sqlite3\n",
    "import os "
   ]
  },
  {
   "cell_type": "markdown",
   "metadata": {},
   "source": [
    "#### Créer une base de données avec SQLite :"
   ]
  },
  {
   "cell_type": "code",
   "execution_count": 2,
   "metadata": {},
   "outputs": [],
   "source": [
    "conn = sqlite3.connect('./db/ma_base_exemple.db')"
   ]
  },
  {
   "cell_type": "markdown",
   "metadata": {},
   "source": [
    "Lorsque vous executerez votre programme vous remarquerez que si la base n'existe pas encore, un fichier sera crée dans le dossier de votre programme. Et si celui-ci existe déjà il sera réutilisé. Vous pouvez bien évidemment choisir l'emplacement de votre base de données en renseignant un path, exemple: \"/data/ma_base_exemple.db\" . *Il vous faudra cependant vérifier que le dossier existe avant de l'utiliser.*\n",
    "Il est également possible de travailler avec une base de données de manière temporaire:"
   ]
  },
  {
   "cell_type": "code",
   "execution_count": 3,
   "metadata": {},
   "outputs": [],
   "source": [
    "#Lorsque le travail que vous attendiez est terminé, pensez à fermer la connexion vers la base\n",
    "#conn.close()"
   ]
  },
  {
   "cell_type": "markdown",
   "metadata": {},
   "source": [
    "#### Un exemple de création de table : "
   ]
  },
  {
   "cell_type": "code",
   "execution_count": 4,
   "metadata": {},
   "outputs": [],
   "source": [
    "cursor = conn.cursor()\n",
    "cursor.execute(\"\"\"\n",
    "CREATE TABLE IF NOT EXISTS users(\n",
    "     id INTEGER PRIMARY KEY AUTOINCREMENT UNIQUE,\n",
    "     name TEXT,\n",
    "     age INTERGER\n",
    ")\n",
    "\"\"\")\n",
    "conn.commit()\n"
   ]
  },
  {
   "cell_type": "markdown",
   "metadata": {},
   "source": [
    "#### Supprimer la table "
   ]
  },
  {
   "cell_type": "code",
   "execution_count": 5,
   "metadata": {},
   "outputs": [
    {
     "data": {
      "text/plain": [
       "'\\ncursor = conn.cursor()\\ncursor.execute(\"\"\"\\nDROP TABLE users\\n\"\"\")\\nconn.commit()\\n'"
      ]
     },
     "execution_count": 5,
     "metadata": {},
     "output_type": "execute_result"
    }
   ],
   "source": [
    "'''\n",
    "cursor = conn.cursor()\n",
    "cursor.execute(\"\"\"\n",
    "DROP TABLE users\n",
    "\"\"\")\n",
    "conn.commit()\n",
    "'''"
   ]
  },
  {
   "cell_type": "markdown",
   "metadata": {},
   "source": [
    "#### Insérer des data \n",
    "\n",
    "Il existe plusieurs manière d'insérer des données, la plus simple étant celle-ci :"
   ]
  },
  {
   "cell_type": "code",
   "execution_count": 6,
   "metadata": {},
   "outputs": [
    {
     "data": {
      "text/plain": [
       "<sqlite3.Cursor at 0x105567ab0>"
      ]
     },
     "execution_count": 6,
     "metadata": {},
     "output_type": "execute_result"
    }
   ],
   "source": [
    "cursor.execute(\"\"\"\n",
    "INSERT INTO users(name, age) VALUES(?, ?)\"\"\", (\"olivier\", 30))"
   ]
  },
  {
   "cell_type": "markdown",
   "metadata": {},
   "source": [
    "#### Vous pouvez passer par un dictionnaire :"
   ]
  },
  {
   "cell_type": "code",
   "execution_count": 7,
   "metadata": {},
   "outputs": [
    {
     "data": {
      "text/plain": [
       "<sqlite3.Cursor at 0x105567ab0>"
      ]
     },
     "execution_count": 7,
     "metadata": {},
     "output_type": "execute_result"
    }
   ],
   "source": [
    "data = {\"name\" : \"olivier\", \"age\" : 30}\n",
    "cursor.execute(\"\"\"\n",
    "INSERT INTO users(name, age) VALUES(:name, :age)\"\"\", data)"
   ]
  },
  {
   "cell_type": "markdown",
   "metadata": {},
   "source": [
    "#### Vous pouvez récupérer l'id de la ligne que vous venez d'insérer de cette manière :"
   ]
  },
  {
   "cell_type": "code",
   "execution_count": 8,
   "metadata": {},
   "outputs": [
    {
     "name": "stdout",
     "output_type": "stream",
     "text": [
      "dernier id: 2\n"
     ]
    }
   ],
   "source": [
    "id = cursor.lastrowid\n",
    "print('dernier id: %d' % id)"
   ]
  },
  {
   "cell_type": "markdown",
   "metadata": {},
   "source": [
    "#### Il est également possible de faire plusieurs insert en une seule fois avec la fonction executemany :\n"
   ]
  },
  {
   "cell_type": "code",
   "execution_count": 9,
   "metadata": {},
   "outputs": [
    {
     "data": {
      "text/plain": [
       "<sqlite3.Cursor at 0x105567ab0>"
      ]
     },
     "execution_count": 9,
     "metadata": {},
     "output_type": "execute_result"
    }
   ],
   "source": [
    "users = []\n",
    "users.append((\"olivier\", 30))\n",
    "users.append((\"jean-louis\", 90))\n",
    "cursor.executemany(\"\"\"\n",
    "INSERT INTO users(name, age) VALUES(?, ?)\"\"\", users)"
   ]
  },
  {
   "cell_type": "markdown",
   "metadata": {},
   "source": [
    "#### Récupérer des données\n",
    "\n",
    "Vous pouvez récupérer la première ligne correspondant à votre recherche à l'aide de **la fonction fetchone.**"
   ]
  },
  {
   "cell_type": "code",
   "execution_count": 10,
   "metadata": {},
   "outputs": [
    {
     "name": "stdout",
     "output_type": "stream",
     "text": [
      "('olivier', 30)\n"
     ]
    }
   ],
   "source": [
    "cursor.execute(\"\"\"SELECT name, age FROM users\"\"\")\n",
    "user1 = cursor.fetchone()\n",
    "#print le TUPLE\n",
    "print(user1)"
   ]
  },
  {
   "cell_type": "markdown",
   "metadata": {},
   "source": [
    "#### Récupérer plusieur data \n",
    "Vous pouvez récupérer plusieurs données de la même recherche en utilisant **la fonction fetchall().**"
   ]
  },
  {
   "cell_type": "code",
   "execution_count": 11,
   "metadata": {},
   "outputs": [
    {
     "name": "stdout",
     "output_type": "stream",
     "text": [
      "1 : olivier - 30\n",
      "2 : olivier - 30\n",
      "3 : olivier - 30\n",
      "4 : jean-louis - 90\n"
     ]
    }
   ],
   "source": [
    "cursor.execute(\"\"\"SELECT id, name, age FROM users\"\"\")\n",
    "rows = cursor.fetchall()\n",
    "for row in rows:\n",
    "    print('{0} : {1} - {2}'.format(row[0], row[1], row[2]))"
   ]
  },
  {
   "cell_type": "code",
   "execution_count": 12,
   "metadata": {},
   "outputs": [
    {
     "name": "stdout",
     "output_type": "stream",
     "text": [
      "1 : olivier, 30\n",
      "2 : olivier, 30\n",
      "3 : olivier, 30\n",
      "4 : jean-louis, 90\n"
     ]
    }
   ],
   "source": [
    "#L'objet curseur fonctionne comme un itérateur, invoquant la méthode fetchall() automatiquement \n",
    "cursor.execute(\"\"\"SELECT id, name, age FROM users\"\"\")\n",
    "for row in cursor:\n",
    "    print('{0} : {1}, {2}'.format(row[0], row[1], row[2]))\n"
   ]
  },
  {
   "cell_type": "code",
   "execution_count": 13,
   "metadata": {},
   "outputs": [],
   "source": [
    "#Pour la recherche spécifique,on utilise la même logique vu précédemment :\n",
    "id = 2\n",
    "cursor.execute(\"\"\"SELECT id, name FROM users WHERE id=?\"\"\", (id,))\n",
    "response = cursor.fetchone()"
   ]
  },
  {
   "cell_type": "markdown",
   "metadata": {},
   "source": [
    "#### Gestion des erreurs \n"
   ]
  },
  {
   "cell_type": "code",
   "execution_count": 14,
   "metadata": {},
   "outputs": [],
   "source": [
    "try:\n",
    "    conn = sqlite3.connect('db/users.db')\n",
    "    cursor = conn.cursor()\n",
    "    cursor.execute(\"\"\"\n",
    "CREATE TABLE users(\n",
    "    id INTEGER PRIMARY KEY AUTOINCREMENT UNIQUE,\n",
    "    name TEXT,\n",
    "    age INTERGER\n",
    ")\n",
    "\"\"\")\n",
    "    conn.commit()\n",
    "except sqlite3.OperationalError:\n",
    "    print('Erreur la table existe déjà')\n",
    "except Exception as e:\n",
    "    print(\"Erreur\")\n",
    "    conn.rollback()\n",
    "    # raise e\n",
    "finally:\n",
    "    conn.close()"
   ]
  },
  {
   "cell_type": "markdown",
   "metadata": {},
   "source": [
    "Les erreurs que vous pouvez intercepter :\n",
    "```\n",
    "Error\n",
    "DatabaseError\n",
    "DataError\n",
    "IntegrityError\n",
    "InternalError\n",
    "NotSupportedError\n",
    "OperationalError\n",
    "ProgrammingError\n",
    "InterfaceError\n",
    "Warning\n",
    "```"
   ]
  },
  {
   "cell_type": "markdown",
   "metadata": {},
   "source": [
    "### Les fonctions ca facilite la vie quand même"
   ]
  },
  {
   "cell_type": "code",
   "execution_count": 15,
   "metadata": {},
   "outputs": [],
   "source": [
    "DEFAULT_PATH = os.path.join(os.path.dirname(\"./db/ma_base_exemple.db\"), 'database.sqlite3')\n",
    "\n",
    "def db_connect(db_path=DEFAULT_PATH):  \n",
    "    con = sqlite3.connect(db_path)\n",
    "    return con\n"
   ]
  },
  {
   "cell_type": "markdown",
   "metadata": {},
   "source": [
    "## Un cas d'application simple : La major company \n",
    "\n",
    "**Voir le schéma sur le diapo du cours**\n",
    "\n",
    "\n",
    "On a donc 11 tables dans notre template de base de données :  \n",
    "- La table des employés stocke les données relatives aux employés, telles que l'ID d'employé, le nom de famille, le prénom, etc. Elle comporte également un champ nommé ReportsTo pour spécifier qui fait rapport à qui.\n",
    "- La table des clients stocke les données des clients.\n",
    "- La tables invoices & facture_items: ces deux tables stockent les données de facturation, la table de factures stocke les données d'en-tête de facture et la table invoice_items stocke les données d'élément de ligne de facture\n",
    "- La table artistes table stocke les données sur les artistes. C'est un tableau simple qui ne contient que l'identifiant et le nom de l'artiste.\n",
    "- La table des albums stocke des données sur une liste de pistes. Chaque album appartient à un artiste. Cependant, un artiste peut avoir plusieurs albums.\n",
    "- La table media_types stocke les types de média tels que l'audio MPEG et le fichier audio AAC.\n",
    " genres table stocke des types de musique tels que le rock, le jazz, le métal, etc.\n",
    "- La table des pistes stocke les données des chansons. Chaque piste appartient à un album.\n",
    " playlists & playlist_track tables: playlists table stocke des données sur les playlists. Chaque playlist contient une liste de pistes. Chaque piste peut appartenir à plusieurs playlists. La relation entre la table des listes de lecture et la table des pistes est multiple. La table playlist_track est utilisée pour refléter cette relation.\n",
    "\n"
   ]
  },
  {
   "cell_type": "markdown",
   "metadata": {},
   "source": [
    "#### Explorer votre base de données \n",
    "\n",
    "Lancer la commande suivante pour accéder à l'interface sqlite3 à la base : \n",
    "```\n",
    "sqlite3 db/chinook.db\n",
    "```\n",
    "\n",
    "Regarder le contenu de la base : \n",
    "```\n",
    ".tables\n",
    "```\n",
    "\n",
    "L'instruction suivante renvoie la table qui se termine par la chaîne 'es' : \n",
    "```\n",
    ".tables '%es' \n",
    "```\n",
    "\n",
    "Regarder la structure de la table des albums\n",
    "\n",
    "```\n",
    ".schema albums\n",
    "```\n",
    "\n",
    "Pour avoir la structure générale du schéma : \n",
    "\n",
    "```\n",
    ".fullschema\n",
    "```\n",
    "\n",
    "Pour avoir les clefs primaire : \n",
    "```\n",
    ".indexes\n",
    "```\n",
    "\n",
    "Mettre sa base de donnée oklm dans un fichier txt : \n",
    "```\n",
    ".output albums.txt\n",
    "SELECT title FROM albums;\n",
    "```"
   ]
  },
  {
   "cell_type": "markdown",
   "metadata": {},
   "source": [
    "#### Les commandes principales \n",
    "\n",
    "** SELECT **\n",
    "\n",
    "On utilisera principalement l'instruction *SELECT* pour interroger les données d'une ou de plusieurs tables. La syntaxe de l'instruction SELECT est la suivante:\n",
    "```\n",
    "SELECT DISTINCT column_list\n",
    "FROM table_list\n",
    "  JOIN table ON join_condition\n",
    "WHERE row_filter\n",
    "ORDER BY column\n",
    "LIMIT count OFFSET offset\n",
    "GROUP BY column\n",
    "HAVING group_filter;\n",
    "```\n",
    "\n",
    "Mais on peut faire aussi un SELECT plus classique : \n",
    "```\n",
    "SELECT\n",
    " trackid,\n",
    " name,\n",
    " composer,\n",
    " unitprice\n",
    "FROM\n",
    " tracks;\n",
    "```\n",
    "\n",
    "Et bien sur le quand classico : \n",
    "```\n",
    "SELECT\n",
    " *\n",
    "FROM\n",
    " tracks;\n",
    "```\n",
    "avec le ** * ** qui signifie ALL\n",
    "\n",
    "\n",
    "** ORDER BY **\n",
    "\n",
    "La clause ORDER BY vient après la clause FROM. La clause ORDER BY vous permet de trier le jeu de résultats en fonction d'une ou de plusieurs colonnes d'ordres différents: croissant et décroissant.\n",
    "\n",
    "```\n",
    "SELECT\n",
    " column_list\n",
    "FROM\n",
    " table\n",
    "ORDER BY\n",
    " column_1 ASC,\n",
    " column_2 DESC;\n",
    "```\n",
    "\n",
    "Supposons qu'on veut trier le jeu de résultats en fonction de la colonne *AlbumId* par ordre croissant, il faut donc  utiliser l'instruction suivante:\n",
    "```\n",
    "SELECT\n",
    " name,\n",
    " milliseconds, \n",
    " albumid\n",
    "FROM\n",
    " tracks\n",
    "ORDER BY\n",
    " albumid ASC;\n",
    "```\n",
    "\n",
    "\n",
    "** WHERE **\n",
    "\n",
    "La clause WHERE est une clause facultative de l'instruction SELECT. Il apparaît après la clause FROM sous la forme suivante:\n",
    "\n",
    "```\n",
    "SELECT\n",
    " column_list\n",
    "FROM\n",
    " table\n",
    "WHERE\n",
    " search_condition;\n",
    "```\n",
    "\n",
    "On peut utiliser des condistion assez folklorique du type \n",
    "```\n",
    "WHERE column_1 = 100;\n",
    " \n",
    "WHERE column_2 IN (1,2,3);\n",
    " \n",
    "WHERE column_3 LIKE 'An%';\n",
    " \n",
    "WHERE column_4 BETWEEN 10 AND 20;\n",
    "```\n",
    "\n",
    "\n",
    "** BETWEEN **\n",
    "\n",
    "L'opérateur BETWEEN est un opérateur logique qui teste si une valeur est dans la plage de valeurs. Si la valeur est dans la plage spécifiée, l'opérateur BETWEEN renvoie la valeur true. \n",
    "```\n",
    "test_expression BETWEEN low_expression AND high_expression\n",
    "```\n",
    "L'opérateur BETWEEN peut être utilisé dans la clause WHERE des instructions SELECT, DELETE, UPDATE et REPLACE.\n",
    "\n",
    "```\n",
    "SELECT\n",
    "    InvoiceId,\n",
    "    BillingAddress,\n",
    "    Total\n",
    "FROM\n",
    "    invoices\n",
    "WHERE\n",
    "    Total BETWEEN 14.91 and 18.86    \n",
    "ORDER BY\n",
    "    Total; \n",
    "```\n",
    "ou encore avec le *NOT BETWEEN* : \n",
    "```\n",
    "SELECT\n",
    "    InvoiceId,\n",
    "    BillingAddress,\n",
    "    Total\n",
    "FROM\n",
    "    invoices\n",
    "WHERE\n",
    "    Total NOT BETWEEN 1 and 20\n",
    "ORDER BY\n",
    "    Total; \n",
    "```\n",
    "\n",
    "\n",
    "** INNER JOIN **\n",
    "\n",
    "Pour interroger des données de plusieurs tables, utiliser la clause INNER JOIN est assez intuitif. La clause INNER JOIN combine les colonnes des tables corrélées.\n",
    "\n",
    "Supposons deux tables: A et B.\n",
    "\n",
    "A a les colonnes a1, a2 et f. B a les colonnes b1, b2 et f. La table A est liée à la table B à l'aide d'une colonne de clé étrangère nommée f. Soit : \n",
    "\n",
    "```\n",
    "SELECT a1, a2, b1, b2\n",
    "FROM A\n",
    "INNER JOIN B on B.f = A.f;\n",
    "```\n",
    "\n",
    "**Petit point sur les jointure, un bon schéma vaut toujours mieux qu'un long discours**\n",
    "<img src=\"https://i2.wp.com/www.codeproject.com/KB/database/Visual_SQL_Joins/Visual_SQL_JOINS_V2.png\">\n",
    "\n",
    "** HAVING **\n",
    "\n",
    "La clause SQLite HAVING est une clause facultative de l'instruction SELECT. La clause HAVING spécifie une condition de recherche pour un groupe.\n",
    "```\n",
    "SELECT\n",
    " column_1,\n",
    " aggregate_function (column_2)\n",
    "FROM\n",
    " table\n",
    "GROUP BY\n",
    " column_1\n",
    "HAVING\n",
    " search_condition;\n",
    "```\n",
    "\n",
    "appliqué à notre exemple de base : \n",
    "```\n",
    "SELECT\n",
    " albumid,\n",
    " COUNT(trackid)\n",
    "FROM\n",
    " tracks\n",
    "GROUP BY\n",
    " albumid;\n",
    "```\n",
    "\n",
    "encore plus loin : \n",
    "```\n",
    "SELECT\n",
    " albumid,\n",
    " COUNT(trackid)\n",
    "FROM\n",
    " tracks\n",
    "GROUP BY\n",
    " albumid\n",
    "HAVING count(albumid) BETWEEN 18 AND 20\n",
    "ORDER BY albumid;\n",
    "```\n",
    "\n",
    "\n",
    "** GROUP BY **\n",
    "\n",
    "Pareil, la clause GROUP BY est une clause facultative de l'instruction SELECT. Elle GROUP BY regroupe un groupe de lignes sélectionné en lignes de synthèse contenant les valeurs d'une ou de plusieurs colonnes.\n",
    "\n",
    "```\n",
    "SELECT\n",
    " albumid,\n",
    " COUNT(trackid)\n",
    "FROM\n",
    " tracks\n",
    "GROUP BY\n",
    " albumid;\n",
    "```\n",
    "\n",
    "toujours plus : \n",
    "```\n",
    "SELECT\n",
    " tracks.albumid,\n",
    " title,\n",
    " COUNT(trackid)\n",
    "FROM\n",
    " tracks\n",
    "INNER JOIN albums ON albums.albumid = tracks.albumid\n",
    "GROUP BY\n",
    " tracks.albumid;\n",
    "```\n",
    "\n",
    "encore des petits tricks : \n",
    "\n",
    "```\n",
    "SELECT\n",
    " tracks.albumid,\n",
    " title,\n",
    " min(milliseconds),\n",
    " max(milliseconds),\n",
    " round(avg(milliseconds),2)\n",
    "FROM\n",
    " tracks\n",
    "INNER JOIN albums ON albums.albumid = tracks.albumid\n",
    "GROUP BY\n",
    " tracks.albumid;\n",
    "```\n",
    "\n",
    "\n",
    "ou encore très simple : \n",
    "```\n",
    "SELECT\n",
    " mediatypeid,\n",
    " genreid,\n",
    " count(trackid)\n",
    "FROM\n",
    " tracks\n",
    "GROUP BY\n",
    " mediatypeid,\n",
    " genreid;\n",
    "```\n"
   ]
  },
  {
   "cell_type": "markdown",
   "metadata": {},
   "source": [
    "### Questions 'mini TP'  \n",
    "\n",
    "** Le mini TP sera à rendre par mail en format MARKDOWN vous avez jusqu'au 06/03/2019 18h pour me rendre ce mini TP ainsi que votre mini projet**\n",
    "\n",
    "- Donner la commande qui permet de lister les tables présente dans le fichier chinook.db\n",
    "- Donner la commande qui permet de lister les tables se terminant par 's'\n",
    "- Donner la commande qui permet de visualiser la construction de la table 'albums'\n",
    "- Donner la commande qui permet de visualiser la construction de toutes les tables \n",
    "- Donner la commande qui permet de selectionner toutes les occurrences de la table TRACKS \n",
    "- Donner l'instruction qui permet de selectionner les 10 premiers 'albumID' de la table albums ordonné par 'artistID' \n",
    "- Donner la commande qui permet de selectionner les 10 premiers nom de la table tracks ordonné par 'albumid'\n",
    "- Donner la commande qui permet de selectionner les 10 premiers nom de la table tracks ou 'albumid' = 1 \n",
    "- Donner la commande qui permet de selectionner les 10 premiers nom de la table tracks ou 'albumid' = 1 et la durée du son est > 252980 ms\n",
    "- Donner la commande qui permet de selectionner les 10 premiers nom de la table tracks ou le 'type media' est 1 et/ou 2 ordonné par nom de tracks\n",
    "- Donner la commande qui permet de selectionner les artistes, les ID de ces artistes et les ID des albums (de la table artiste) tel que les ID des artistes soit les mêmes que les ID de leurs albums. Tout cela ordonné par ID album.  "
   ]
  },
  {
   "cell_type": "markdown",
   "metadata": {},
   "source": [
    "#### Petit plus : gestion du CSV \n",
    "\n",
    "Exporter votre base de données vers un fichier CSV :\n",
    "\n",
    "- Activez l'en-tête du jeu de résultats à l'aide de la commande .header on.\n",
    "- Définissez le mode de sortie sur CSV pour demander à l'outil sqlite3 d'émettre le résultat en mode CSV.\n",
    "- Envoyez la sortie dans un fichier CSV.\n",
    "- Lancez la requête pour sélectionner les données de la table vers laquelle vous souhaitez exporter.\n",
    "\n",
    "```\n",
    ">sqlite3 c:/sqlite/chinook.db\n",
    "sqlite> .headers on\n",
    "sqlite> .mode csv\n",
    "sqlite> .output data.csv\n",
    "sqlite> SELECT customerid,\n",
    "   ...>        firstname,\n",
    "   ...>        lastname,\n",
    "   ...>        company\n",
    "   ...>   FROM customers;\n",
    "sqlite> .quit\n",
    "```\n"
   ]
  },
  {
   "cell_type": "code",
   "execution_count": null,
   "metadata": {},
   "outputs": [],
   "source": []
  }
 ],
 "metadata": {
  "kernelspec": {
   "display_name": "Python 3",
   "language": "python",
   "name": "python3"
  },
  "language_info": {
   "codemirror_mode": {
    "name": "ipython",
    "version": 3
   },
   "file_extension": ".py",
   "mimetype": "text/x-python",
   "name": "python",
   "nbconvert_exporter": "python",
   "pygments_lexer": "ipython3",
   "version": "3.7.1"
  }
 },
 "nbformat": 4,
 "nbformat_minor": 2
}
