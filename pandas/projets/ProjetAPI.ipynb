{
 "cells": [
  {
   "cell_type": "markdown",
   "metadata": {},
   "source": [
    "# TP Python : Pre-processing & Pandas  \n",
    "\n",
    "\n",
    "##  Un peu de pre-processing avec la team Star Wars  \n",
    "\n",
    "Importer les 10 premiers personages de star wars depuis l'api du site [swapi](https://swapi.co/) et les ranger dans un dataframe de laçon suivante : \n",
    "<img src=\"./StarWarsResult.png\">"
   ]
  },
  {
   "cell_type": "code",
   "execution_count": null,
   "metadata": {},
   "outputs": [],
   "source": [
    "import requests\n",
    "##### CODE #####"
   ]
  }
 ],
 "metadata": {
  "kernelspec": {
   "display_name": "Python 3",
   "language": "python",
   "name": "python3"
  },
  "language_info": {
   "codemirror_mode": {
    "name": "ipython",
    "version": 3
   },
   "file_extension": ".py",
   "mimetype": "text/x-python",
   "name": "python",
   "nbconvert_exporter": "python",
   "pygments_lexer": "ipython3",
   "version": "3.7.1"
  }
 },
 "nbformat": 4,
 "nbformat_minor": 2
}
